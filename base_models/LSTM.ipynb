{
  "cells": [
    {
      "cell_type": "code",
      "execution_count": 3,
      "metadata": {
        "id": "erfbOVaCOOMZ"
      },
      "outputs": [],
      "source": [
        "# IMPORTING MODULES\n",
        "\n",
        "import pandas as pd\n",
        "import numpy as np\n",
        "from tensorflow.keras.preprocessing.text import Tokenizer\n",
        "from tensorflow.keras.preprocessing.sequence import pad_sequences\n",
        "from tensorflow.keras.models import Sequential\n",
        "from tensorflow.keras.layers import Embedding, LSTM, Dense, Dropout\n",
        "from sklearn.model_selection import train_test_split\n",
        "from sklearn.metrics import accuracy_score, classification_report, average_precision_score"
      ]
    },
    {
      "cell_type": "code",
      "source": [
        "import warnings\n",
        "warnings.filterwarnings('ignore')"
      ],
      "metadata": {
        "id": "VTAvHZu1JYGM"
      },
      "execution_count": 5,
      "outputs": []
    },
    {
      "cell_type": "code",
      "execution_count": 1,
      "metadata": {
        "colab": {
          "base_uri": "https://localhost:8080/"
        },
        "id": "FzWV33VfOcA3",
        "outputId": "a26e9a99-b9a0-4a65-8341-24ce21793e37"
      },
      "outputs": [
        {
          "output_type": "stream",
          "name": "stdout",
          "text": [
            "Mounted at /content/drive\n"
          ]
        }
      ],
      "source": [
        "# GOOGLE COLAB SETUP\n",
        "\n",
        "from google.colab import drive\n",
        "drive.mount('/content/drive')"
      ]
    },
    {
      "cell_type": "code",
      "execution_count": 4,
      "metadata": {
        "id": "dvThd22mPOe5"
      },
      "outputs": [],
      "source": [
        "# 1. Importing Data\n",
        "\n",
        "train = pd.read_csv('/content/drive/MyDrive/SJ-DECEN_code/data/train_cleaned_no_punkt.csv')\n",
        "test_labelled = pd.read_csv('/content/drive/MyDrive/SJ-DECEN_code/data/test_labelled_cleaned_no_punkt.csv')\n",
        "test_unlabelled = pd.read_csv('/content/drive/MyDrive/SJ-DECEN_code/data/test_unlabelled_cleaned_no_punkt.csv')"
      ]
    },
    {
      "cell_type": "code",
      "execution_count": 6,
      "metadata": {
        "id": "X9p-2OG0PP3U"
      },
      "outputs": [],
      "source": [
        "# 2. Create 'mal' label (1 if any toxic label is 1)\n",
        "label_cols = ['toxic', 'severe_toxic', 'obscene', 'threat', 'insult', 'identity_hate']\n",
        "train['mal'] = train[label_cols].sum(axis=1) >= 1\n",
        "test_labelled['mal'] = test_labelled[label_cols].sum(axis=1) >= 1"
      ]
    },
    {
      "cell_type": "code",
      "execution_count": 7,
      "metadata": {
        "id": "PRFBGiM0PVOP"
      },
      "outputs": [],
      "source": [
        "# 3. Drop old label columns and fill NaNs\n",
        "train.drop(columns=label_cols, inplace=True)\n",
        "test_labelled.drop(columns=label_cols, inplace=True)\n",
        "train['comment_text'].fillna(\"empty\", inplace=True)\n",
        "test_labelled['comment_text'].fillna(\"empty\", inplace=True)\n",
        "test_unlabelled['comment_text'].fillna(\"empty\", inplace=True)"
      ]
    },
    {
      "cell_type": "code",
      "execution_count": null,
      "metadata": {
        "id": "vI4Mpl4BPfj_"
      },
      "outputs": [],
      "source": [
        "# 4. Stratified splitting and combining for balanced training\n",
        "rs = 42\n",
        "X_train1, X_test1, y_train1, y_test1 = train_test_split(train['comment_text'], train['mal'], test_size=0.29, stratify=train['mal'], random_state=rs)\n",
        "X_train2, X_test2, y_train2, y_test2 = train_test_split(test_labelled['comment_text'], test_labelled['mal'], test_size=0.29, stratify=test_labelled['mal'], random_state=rs)\n",
        "\n",
        "X_train = np.concatenate([X_train1.values, X_train2.values])\n",
        "y_train = np.concatenate([y_train1.values, y_train2.values])\n",
        "X_test = np.concatenate([X_test1.values, X_test2.values])\n",
        "y_test = np.concatenate([y_test1.values, y_test2.values])"
      ]
    },
    {
      "cell_type": "code",
      "execution_count": null,
      "metadata": {
        "id": "BoOmX8WLPjrB"
      },
      "outputs": [],
      "source": [
        "# 5. Tokenization and Padding\n",
        "vocab_size = 20000\n",
        "max_len = 150\n",
        "tokenizer = Tokenizer(num_words=vocab_size, oov_token=\"<OOV>\")\n",
        "tokenizer.fit_on_texts(X_train)\n",
        "\n",
        "X_train_seq = tokenizer.texts_to_sequences(X_train)\n",
        "X_train_pad = pad_sequences(X_train_seq, maxlen=max_len, padding='post', truncating='post')\n",
        "X_test_seq = tokenizer.texts_to_sequences(X_test)\n",
        "X_test_pad = pad_sequences(X_test_seq, maxlen=max_len, padding='post', truncating='post')\n"
      ]
    },
    {
      "cell_type": "code",
      "execution_count": null,
      "metadata": {
        "colab": {
          "base_uri": "https://localhost:8080/"
        },
        "id": "1wWdor0GPvKS",
        "outputId": "2fe807ae-c46a-43b7-9cfe-7c81fa6e70ce"
      },
      "outputs": [
        {
          "output_type": "stream",
          "name": "stderr",
          "text": [
            "/usr/local/lib/python3.11/dist-packages/keras/src/layers/core/embedding.py:90: UserWarning: Argument `input_length` is deprecated. Just remove it.\n",
            "  warnings.warn(\n"
          ]
        }
      ],
      "source": [
        "# 6. Model building\n",
        "model = Sequential([\n",
        "    Embedding(input_dim=vocab_size, output_dim=128, input_length=max_len),\n",
        "    LSTM(64),\n",
        "    Dropout(0.5),\n",
        "    Dense(32, activation='relu'),\n",
        "    Dropout(0.5),\n",
        "    Dense(1, activation='sigmoid')\n",
        "])\n",
        "\n",
        "model.compile(loss='binary_crossentropy', optimizer='adam', metrics=['accuracy'])\n"
      ]
    },
    {
      "cell_type": "code",
      "execution_count": null,
      "metadata": {
        "colab": {
          "base_uri": "https://localhost:8080/"
        },
        "id": "0shGxKqYPy-Z",
        "outputId": "d70fd4ef-6725-40ce-9f48-fb2d92acacff"
      },
      "outputs": [
        {
          "output_type": "stream",
          "name": "stdout",
          "text": [
            "Epoch 1/5\n",
            "\u001b[1m1984/1984\u001b[0m \u001b[32m━━━━━━━━━━━━━━━━━━━━\u001b[0m\u001b[37m\u001b[0m \u001b[1m474s\u001b[0m 237ms/step - accuracy: 0.8970 - loss: 0.3565 - val_accuracy: 0.9033 - val_loss: 0.3154\n",
            "Epoch 2/5\n",
            "\u001b[1m1984/1984\u001b[0m \u001b[32m━━━━━━━━━━━━━━━━━━━━\u001b[0m\u001b[37m\u001b[0m \u001b[1m507s\u001b[0m 240ms/step - accuracy: 0.9067 - loss: 0.3006 - val_accuracy: 0.9404 - val_loss: 0.1467\n",
            "Epoch 3/5\n",
            "\u001b[1m1984/1984\u001b[0m \u001b[32m━━━━━━━━━━━━━━━━━━━━\u001b[0m\u001b[37m\u001b[0m \u001b[1m490s\u001b[0m 233ms/step - accuracy: 0.9590 - loss: 0.1158 - val_accuracy: 0.9390 - val_loss: 0.1465\n",
            "Epoch 4/5\n",
            "\u001b[1m1984/1984\u001b[0m \u001b[32m━━━━━━━━━━━━━━━━━━━━\u001b[0m\u001b[37m\u001b[0m \u001b[1m515s\u001b[0m 240ms/step - accuracy: 0.9674 - loss: 0.0886 - val_accuracy: 0.9360 - val_loss: 0.1656\n",
            "Epoch 5/5\n",
            "\u001b[1m1984/1984\u001b[0m \u001b[32m━━━━━━━━━━━━━━━━━━━━\u001b[0m\u001b[37m\u001b[0m \u001b[1m497s\u001b[0m 238ms/step - accuracy: 0.9764 - loss: 0.0620 - val_accuracy: 0.9245 - val_loss: 0.2233\n"
          ]
        }
      ],
      "source": [
        "# 7. Training\n",
        "history = model.fit(X_train_pad, y_train, validation_split=0.2, epochs=5, batch_size=64)\n"
      ]
    },
    {
      "cell_type": "code",
      "execution_count": null,
      "metadata": {
        "colab": {
          "base_uri": "https://localhost:8080/"
        },
        "id": "MkbjLVdnP5DN",
        "outputId": "6a0c77aa-4305-4e78-f0fb-7108602a2aaa"
      },
      "outputs": [
        {
          "output_type": "stream",
          "name": "stdout",
          "text": [
            "\u001b[1m2026/2026\u001b[0m \u001b[32m━━━━━━━━━━━━━━━━━━━━\u001b[0m\u001b[37m\u001b[0m \u001b[1m57s\u001b[0m 28ms/step\n"
          ]
        }
      ],
      "source": [
        "# 8. Evaluation\n",
        "predictions = model.predict(X_test_pad).flatten()\n",
        "predictions_bin = (predictions > 0.5).astype(\"int32\")\n",
        "\n",
        "accuracy = accuracy_score(y_test, predictions_bin)\n",
        "class_report = classification_report(y_test, predictions_bin)\n",
        "avg_precision = average_precision_score(y_test, predictions)\n"
      ]
    },
    {
      "cell_type": "code",
      "execution_count": null,
      "metadata": {
        "colab": {
          "base_uri": "https://localhost:8080/"
        },
        "id": "NoopYAnOP6AL",
        "outputId": "372e10fb-8220-41d3-ea2a-db786c306576"
      },
      "outputs": [
        {
          "output_type": "stream",
          "name": "stdout",
          "text": [
            "Accuracy: 0.9488662656177695\n",
            "Classification Report:\n",
            "              precision    recall  f1-score   support\n",
            "\n",
            "       False       0.98      0.97      0.97     58314\n",
            "        True       0.73      0.78      0.75      6516\n",
            "\n",
            "    accuracy                           0.95     64830\n",
            "   macro avg       0.85      0.87      0.86     64830\n",
            "weighted avg       0.95      0.95      0.95     64830\n",
            "\n",
            "Average Precision: 0.8254309385708222\n"
          ]
        }
      ],
      "source": [
        "# 9. Output\n",
        "print(f'Accuracy: {accuracy}')\n",
        "print(f'Classification Report:\\n{class_report}')\n",
        "print(f'Average Precision: {avg_precision}')"
      ]
    },
    {
      "cell_type": "code",
      "execution_count": null,
      "metadata": {
        "colab": {
          "base_uri": "https://localhost:8080/",
          "height": 472
        },
        "id": "1irNcaOTMZB4",
        "outputId": "4fe585b1-20fc-4a45-9232-cf345b6a258b"
      },
      "outputs": [
        {
          "output_type": "display_data",
          "data": {
            "text/plain": [
              "<Figure size 640x480 with 1 Axes>"
            ],
            "image/png": "[encoded data removed]"
          },
          "metadata": {}
        }
      ],
      "source": [
        "from sklearn.metrics import roc_curve, auc\n",
        "import matplotlib.pyplot as plt\n",
        "\n",
        "\n",
        "# Compute ROC curve and AUC\n",
        "fpr, tpr, thresholds = roc_curve(y_test, predictions)\n",
        "roc_auc = auc(fpr, tpr)\n",
        "\n",
        "# Plot ROC Curve\n",
        "plt.figure()\n",
        "plt.plot(fpr, tpr, label=f'AUC = {roc_auc:.2f}')\n",
        "plt.plot([0, 1], [0, 1], 'k--')  # Diagonal line\n",
        "plt.xlabel('False Positive Rate')\n",
        "plt.ylabel('True Positive Rate')\n",
        "plt.title('Receiver Operating Characteristic (ROC) Curve')\n",
        "plt.legend(loc='lower right')\n",
        "plt.grid()\n",
        "plt.show()\n"
      ]
    }
  ],
  "metadata": {
    "colab": {
      "provenance": []
    },
    "kernelspec": {
      "display_name": "Python 3",
      "name": "python3"
    },
    "language_info": {
      "name": "python"
    }
  },
  "nbformat": 4,
  "nbformat_minor": 0
}